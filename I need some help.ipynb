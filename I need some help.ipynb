{
 "cells": [
  {
   "cell_type": "code",
   "execution_count": 23,
   "id": "3fbfa213",
   "metadata": {},
   "outputs": [
    {
     "name": "stdout",
     "output_type": "stream",
     "text": [
      "Enter a choice rock as 0, paper as 1 or scissor as 2:  0\n",
      "I_Choose= 0\n",
      "computer choice =2\n",
      "computer_choice=scissor\n",
      "You lose.\n"
     ]
    }
   ],
   "source": [
    "choices=[\"rock\", \"paper\", \"scissor\"]\n",
    "cont= \"y\"\n",
    "while cont==\"y\":\n",
    "    rock=0\n",
    "    paper=1\n",
    "    scissor=2\n",
    "    I_Choose = input(\"Enter a choice rock as 0, paper as 1 or scissor as 2:  \")\n",
    "    print(f\"I_Choose= {I_Choose}\")\n",
    "                  \n",
    "\n",
    "    import random\n",
    "    computer_choice=random.randint(0,2)\n",
    "    print(f\"computer choice ={computer_choice}\")\n",
    "    if (computer_choice == 0):\n",
    "        print(f\"computer_choice=rock\") \n",
    "    if (computer_choice == 1):\n",
    "        print(f\"computer_choice=paper\")\n",
    "    if (computer_choice == 2):\n",
    "        print(f\"computer_choice=scissor\")\n",
    "    \n",
    "    \n",
    "    if I_Choose == computer_choice:\n",
    "        print(\"It's a draw.\") \n",
    "    elif (I_Choose == 0 and computer_choice == 2): \n",
    "        print(\"You win!\")\n",
    "    elif (I_Choose == 2 and computer_choice == 1):\n",
    "        print(\"You win!\")\n",
    "    elif (I_Choose == 1 and computer_choice == 0):\n",
    "        print(\"You win!\")\n",
    "    else:\n",
    "        print(\"You lose.\")\n",
    "    \n",
    "    cont=input(\"do you wish to continue? (Y/N)\")\n",
    "print(\"Game is over\")"
   ]
  },
  {
   "cell_type": "code",
   "execution_count": null,
   "id": "a856ae8a",
   "metadata": {},
   "outputs": [],
   "source": []
  },
  {
   "cell_type": "code",
   "execution_count": null,
   "id": "dc625142",
   "metadata": {},
   "outputs": [],
   "source": []
  },
  {
   "cell_type": "code",
   "execution_count": null,
   "id": "49ece2e5",
   "metadata": {},
   "outputs": [],
   "source": []
  }
 ],
 "metadata": {
  "kernelspec": {
   "display_name": "Python 3 (ipykernel)",
   "language": "python",
   "name": "python3"
  },
  "language_info": {
   "codemirror_mode": {
    "name": "ipython",
    "version": 3
   },
   "file_extension": ".py",
   "mimetype": "text/x-python",
   "name": "python",
   "nbconvert_exporter": "python",
   "pygments_lexer": "ipython3",
   "version": "3.9.7"
  }
 },
 "nbformat": 4,
 "nbformat_minor": 5
}
